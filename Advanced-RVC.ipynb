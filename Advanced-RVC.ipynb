{
  "cells": [
    {
      "cell_type": "markdown",
      "metadata": {
        "id": "view-in-github",
        "colab_type": "text"
      },
      "source": [
        "<a href=\"https://colab.research.google.com/github/maxloser1969/maxloser1969/blob/main/Advanced-RVC.ipynb\" target=\"_parent\"><img src=\"https://colab.research.google.com/assets/colab-badge.svg\" alt=\"Open In Colab\"/></a>"
      ]
    },
    {
      "cell_type": "markdown",
      "source": [
        "<h1><div/align=\"center\"> Advanced RVC Inference\n",
        "\n",
        "---\n",
        "\n",
        "<big> for quicker and effortless model downloads\n",
        "\n",
        "---\n",
        "\n",
        "[Support](https://discord.gg/hvmsukmBHE) — [GitHub](https://github.com/ArkanDash/Advanced-RVC-Inference.git)"
      ],
      "metadata": {
        "id": "FZUxBujkr91c"
      }
    },
    {
      "cell_type": "code",
      "execution_count": 3,
      "metadata": {
        "cellView": "form",
        "id": "sfqNqmS-rEPK",
        "outputId": "fdd7dade-e274-48aa-a833-25813381e3ce",
        "colab": {
          "base_uri": "https://localhost:8080/"
        }
      },
      "outputs": [
        {
          "output_type": "stream",
          "name": "stdout",
          "text": [
            "Requirements installed!\n"
          ]
        }
      ],
      "source": [
        "#@title ## **Install**\n",
        "\n",
        "\n",
        "import os\n",
        "import codecs\n",
        "from IPython.display import clear_output\n",
        "\n",
        "\n",
        "!sudo apt update\n",
        "!sudo apt install python3.10\n",
        "!sudo update-alternatives --install /usr/bin/python3 python3 /usr/bin/python3.10 1\n",
        "!sudo update-alternatives --set python3 /usr/bin/python3.10\n",
        "!curl -sS https://bootstrap.pypa.io/get-pip.py | python3\n",
        "import sys\n",
        "sys.path.append('/usr/local/lib/python3.10/dist-packages')\n",
        "clear_output()\n",
        "\n",
        "print(\"Installing requirements\")\n",
        "\n",
        "repo = \"https://github.com/ArkanDash/Advanced-RVC-Inference.git\"\n",
        "\n",
        "!git clone $repo main_program\n",
        "%cd main_program\n",
        "\n",
        "!pip install -r requirements.txt\n",
        "!pip install torch==2.3.1 torchvision==0.18.1 torchaudio==2.3.1 --upgrade --index-url https://download.pytorch.org/whl/cu121  &> /dev/null\n",
        "!pip install numpy==1.23.5\n",
        "\n",
        "clear_output()\n",
        "print(\"Requirements installed!\")"
      ]
    },
    {
      "cell_type": "code",
      "source": [
        "#@title ## **Start**\n",
        "import codecs\n",
        "\n",
        "!git pull -q\n",
        "\n",
        "runtime=codecs.decode(\"ncc.cl --funer\", \"rot_13\")\n",
        "!python $runtime"
      ],
      "metadata": {
        "cellView": "form",
        "id": "pU5A1DTXN1do",
        "outputId": "4800866d-73df-4b3c-8614-48536158369f",
        "colab": {
          "base_uri": "https://localhost:8080/"
        }
      },
      "execution_count": null,
      "outputs": [
        {
          "metadata": {
            "tags": null
          },
          "name": "stdout",
          "output_type": "stream",
          "text": [
            "Discord is not running. Rich Presence will be disabled.\n",
            "Downloading all files: 629MiB [00:09, 66.9MiB/s]\n",
            "* Running on local URL:  http://127.0.0.1:7755\n",
            "* Running on public URL: https://e224a681631ca06efc.gradio.live\n",
            "\n",
            "This share link expires in 1 week. For free permanent hosting and GPU upgrades, run `gradio deploy` from the terminal in the working directory to deploy to Hugging Face Spaces (https://huggingface.co/spaces)\n"
          ]
        }
      ]
    }
  ],
  "metadata": {
    "language_info": {
      "name": "python"
    },
    "orig_nbformat": 4,
    "colab": {
      "provenance": [],
      "gpuType": "T4",
      "include_colab_link": true
    },
    "kernelspec": {
      "name": "python3",
      "display_name": "Python 3"
    },
    "accelerator": "GPU"
  },
  "nbformat": 4,
  "nbformat_minor": 0
}